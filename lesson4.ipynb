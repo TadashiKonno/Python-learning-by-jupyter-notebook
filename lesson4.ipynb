{
 "cells": [
  {
   "cell_type": "code",
   "execution_count": 1,
   "metadata": {},
   "outputs": [],
   "source": [
    "#第4回 Jupyterでいろいろなグラフを描画しよう"
   ]
  },
  {
   "cell_type": "code",
   "execution_count": 3,
   "metadata": {},
   "outputs": [
    {
     "data": {
      "text/html": [
       "<div>\n",
       "<style scoped>\n",
       "    .dataframe tbody tr th:only-of-type {\n",
       "        vertical-align: middle;\n",
       "    }\n",
       "\n",
       "    .dataframe tbody tr th {\n",
       "        vertical-align: top;\n",
       "    }\n",
       "\n",
       "    .dataframe thead th {\n",
       "        text-align: right;\n",
       "    }\n",
       "</style>\n",
       "<table border=\"1\" class=\"dataframe\">\n",
       "  <thead>\n",
       "    <tr style=\"text-align: right;\">\n",
       "      <th></th>\n",
       "      <th>都道府県</th>\n",
       "      <th>平成12年</th>\n",
       "      <th>平成17年</th>\n",
       "      <th>平成22年</th>\n",
       "      <th>平成27年</th>\n",
       "      <th>平成28年</th>\n",
       "      <th>増減</th>\n",
       "      <th>test</th>\n",
       "    </tr>\n",
       "  </thead>\n",
       "  <tbody>\n",
       "    <tr>\n",
       "      <th>0</th>\n",
       "      <td>東京都</td>\n",
       "      <td>12064</td>\n",
       "      <td>12577</td>\n",
       "      <td>13159</td>\n",
       "      <td>13515</td>\n",
       "      <td>13624</td>\n",
       "      <td>465</td>\n",
       "      <td>0</td>\n",
       "    </tr>\n",
       "    <tr>\n",
       "      <th>1</th>\n",
       "      <td>神奈川県</td>\n",
       "      <td>8490</td>\n",
       "      <td>8792</td>\n",
       "      <td>9048</td>\n",
       "      <td>9126</td>\n",
       "      <td>9145</td>\n",
       "      <td>97</td>\n",
       "      <td>0</td>\n",
       "    </tr>\n",
       "    <tr>\n",
       "      <th>3</th>\n",
       "      <td>愛知県</td>\n",
       "      <td>7043</td>\n",
       "      <td>7255</td>\n",
       "      <td>7411</td>\n",
       "      <td>7483</td>\n",
       "      <td>7507</td>\n",
       "      <td>96</td>\n",
       "      <td>0</td>\n",
       "    </tr>\n",
       "    <tr>\n",
       "      <th>4</th>\n",
       "      <td>埼玉県</td>\n",
       "      <td>6938</td>\n",
       "      <td>7054</td>\n",
       "      <td>7195</td>\n",
       "      <td>7267</td>\n",
       "      <td>7289</td>\n",
       "      <td>94</td>\n",
       "      <td>0</td>\n",
       "    </tr>\n",
       "    <tr>\n",
       "      <th>24</th>\n",
       "      <td>沖縄県</td>\n",
       "      <td>1318</td>\n",
       "      <td>1362</td>\n",
       "      <td>1393</td>\n",
       "      <td>1434</td>\n",
       "      <td>1439</td>\n",
       "      <td>46</td>\n",
       "      <td>0</td>\n",
       "    </tr>\n",
       "    <tr>\n",
       "      <th>8</th>\n",
       "      <td>福岡県</td>\n",
       "      <td>5016</td>\n",
       "      <td>5050</td>\n",
       "      <td>5072</td>\n",
       "      <td>5102</td>\n",
       "      <td>5104</td>\n",
       "      <td>32</td>\n",
       "      <td>0</td>\n",
       "    </tr>\n",
       "    <tr>\n",
       "      <th>5</th>\n",
       "      <td>千葉県</td>\n",
       "      <td>5926</td>\n",
       "      <td>6056</td>\n",
       "      <td>6216</td>\n",
       "      <td>6223</td>\n",
       "      <td>6236</td>\n",
       "      <td>20</td>\n",
       "      <td>0</td>\n",
       "    </tr>\n",
       "    <tr>\n",
       "      <th>25</th>\n",
       "      <td>滋賀県</td>\n",
       "      <td>1343</td>\n",
       "      <td>1380</td>\n",
       "      <td>1411</td>\n",
       "      <td>1413</td>\n",
       "      <td>1413</td>\n",
       "      <td>2</td>\n",
       "      <td>0</td>\n",
       "    </tr>\n",
       "    <tr>\n",
       "      <th>13</th>\n",
       "      <td>宮城県</td>\n",
       "      <td>2365</td>\n",
       "      <td>2360</td>\n",
       "      <td>2348</td>\n",
       "      <td>2334</td>\n",
       "      <td>2330</td>\n",
       "      <td>-18</td>\n",
       "      <td>0</td>\n",
       "    </tr>\n",
       "    <tr>\n",
       "      <th>33</th>\n",
       "      <td>石川県</td>\n",
       "      <td>1181</td>\n",
       "      <td>1174</td>\n",
       "      <td>1170</td>\n",
       "      <td>1154</td>\n",
       "      <td>1151</td>\n",
       "      <td>-19</td>\n",
       "      <td>0</td>\n",
       "    </tr>\n",
       "  </tbody>\n",
       "</table>\n",
       "</div>"
      ],
      "text/plain": [
       "    都道府県  平成12年  平成17年  平成22年  平成27年  平成28年   増減  test\n",
       "0    東京都  12064  12577  13159  13515  13624  465     0\n",
       "1   神奈川県   8490   8792   9048   9126   9145   97     0\n",
       "3    愛知県   7043   7255   7411   7483   7507   96     0\n",
       "4    埼玉県   6938   7054   7195   7267   7289   94     0\n",
       "24   沖縄県   1318   1362   1393   1434   1439   46     0\n",
       "8    福岡県   5016   5050   5072   5102   5104   32     0\n",
       "5    千葉県   5926   6056   6216   6223   6236   20     0\n",
       "25   滋賀県   1343   1380   1411   1413   1413    2     0\n",
       "13   宮城県   2365   2360   2348   2334   2330  -18     0\n",
       "33   石川県   1181   1174   1170   1154   1151  -19     0"
      ]
     },
     "execution_count": 3,
     "metadata": {},
     "output_type": "execute_result"
    },
    {
     "data": {
      "image/png": "[encoded data removed]",
      "text/plain": [
       "<matplotlib.figure.Figure at 0xa8471c4c>"
      ]
     },
     "metadata": {},
     "output_type": "display_data"
    }
   ],
   "source": [
    "%matplotlib inline\n",
    "import pandas as pd\n",
    "df = pd.read_csv(\"population.csv\", encoding=\"SHIFT_JIS\")\n",
    "df[\"増減\"] = df[\"平成28年\"]-df[\"平成22年\"]\n",
    "#実験　test列挿入と初期化\n",
    "df[\"test\"] = 0\n",
    "df = df.sort_values(by=\"増減\",ascending=False)\n",
    "top10 = df[0:10]\n",
    "top10.plot.bar(y=\"増減\",x=\"都道府県\")\n",
    "top10"
   ]
  },
  {
   "cell_type": "code",
   "execution_count": 13,
   "metadata": {},
   "outputs": [
    {
     "name": "stderr",
     "output_type": "stream",
     "text": [
      "/home/tadashi/anaconda3/lib/python3.6/site-packages/pandas/plotting/_core.py:1716: UserWarning: Pandas doesn't allow columns to be created via a new attribute name - see https://pandas.pydata.org/pandas-docs/stable/indexing.html#attribute-access\n",
      "  series.name = label\n"
     ]
    },
    {
     "data": {
      "text/plain": [
       "<matplotlib.lines.Line2D at 0xa82a4d8c>"
      ]
     },
     "execution_count": 13,
     "metadata": {},
     "output_type": "execute_result"
    },
    {
     "data": {
      "image/png": "[encoded data removed]",
      "text/plain": [
       "<matplotlib.figure.Figure at 0xa82cdb6c>"
      ]
     },
     "metadata": {},
     "output_type": "display_data"
    }
   ],
   "source": [
    "mid = df[5:15]\n",
    "# グラフのスタイルに ggplot を利用する\n",
    "import matplotlib\n",
    "matplotlib.style.use('ggplot')\n",
    "#グラフ描画\n",
    "plt=mid.plot.bar(y=[\"増減\"], x=[\"都道府県\"])\n",
    "# 0のラインを強調\n",
    "plt.axhline(0, color='k')"
   ]
  },
  {
   "cell_type": "code",
   "execution_count": null,
   "metadata": {},
   "outputs": [],
   "source": []
  }
 ],
 "metadata": {
  "kernelspec": {
   "display_name": "Python 3",
   "language": "python",
   "name": "python3"
  },
  "language_info": {
   "codemirror_mode": {
    "name": "ipython",
    "version": 3
   },
   "file_extension": ".py",
   "mimetype": "text/x-python",
   "name": "python",
   "nbconvert_exporter": "python",
   "pygments_lexer": "ipython3",
   "version": "3.6.4"
  }
 },
 "nbformat": 4,
 "nbformat_minor": 2
}
