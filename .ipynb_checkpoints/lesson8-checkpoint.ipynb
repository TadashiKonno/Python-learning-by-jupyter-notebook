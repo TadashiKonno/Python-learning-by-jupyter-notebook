{
 "cells": [
  {
   "cell_type": "code",
   "execution_count": 1,
   "metadata": {},
   "outputs": [],
   "source": [
    "#第8回ゲームで覚えるPythonプログラミング - Tkinterで始めよう"
   ]
  },
  {
   "cell_type": "code",
   "execution_count": 12,
   "metadata": {},
   "outputs": [],
   "source": [
    "from tkinter import *\n",
    "win = Tk()\n",
    "cv = Canvas(win, width = 600, height = 480)\n",
    "cv.pack()\n",
    "\n",
    "cv.create_rectangle(150, 150, 250, 250, fill =\"red\")\n",
    "cv.create_rectangle(320, 270, 370, 320, fill =\"green\")\n",
    "cv.create_line(10,90,580,90,fill=\"blue\",width=5)\n",
    "cv.create_line(90, 10, 90, 380, fill=\"blue\", width=5)\n",
    "\n",
    "win.mainloop()"
   ]
  },
  {
   "cell_type": "code",
   "execution_count": null,
   "metadata": {},
   "outputs": [],
   "source": []
  }
 ],
 "metadata": {
  "kernelspec": {
   "display_name": "Python 3",
   "language": "python",
   "name": "python3"
  },
  "language_info": {
   "codemirror_mode": {
    "name": "ipython",
    "version": 3
   },
   "file_extension": ".py",
   "mimetype": "text/x-python",
   "name": "python",
   "nbconvert_exporter": "python",
   "pygments_lexer": "ipython3",
   "version": "3.6.4"
  }
 },
 "nbformat": 4,
 "nbformat_minor": 2
}
