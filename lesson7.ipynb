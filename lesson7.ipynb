{
 "cells": [
  {
   "cell_type": "code",
   "execution_count": 22,
   "metadata": {},
   "outputs": [
    {
     "name": "stdout",
     "output_type": "stream",
     "text": [
      "quad\t =quadrangle2 \n",
      "\n",
      "quad\t (録音再生が)4チャンネルの \n",
      "\n",
      "quad\t 四つ子の一人 \n",
      "\n",
      "quay\t はとば,埠頭(ふとう) \n",
      "\n",
      "quid\t 1ポンド[の金額] \n",
      "\n",
      "quid\t かみたばこ;その一服 \n",
      "\n",
      "quid pro quo\t お返し,埋め合わせ;代用品 \n",
      "\n",
      "quin\t =quintuplet・五つ子の一人 / 《複数形で》五つ子 / (特に同種の)5個(5人)一組 \n",
      "\n",
      "quip\t (特に当意即妙な)警句,気のきいた言葉 / しんらつな言葉 / 気のきいたこと(皮肉)を言う \n",
      "\n",
      "quit\t …‘を'『やめる』,『中止する』 / 〈職・地位など〉‘を'『断念する』,『此てる』,放棄する / 《英では古》〈人・土地など〉‘から'去る / やめる,中止する / 辞職(退職)する / (敗北を認めなどして)断念する / 去る;立ちのく / (…を)免れた,(…から)自由な《+『of』+『名』》\n",
      "\n",
      "quiz\t 『小テスト』 / 『クイズ』 / (…について)《人》‘に'質問する,試験する《+『名』《人》+『about』(『no』)+『名』》 \n",
      "\n",
      "quod\t 監獄 \n",
      "\n"
     ]
    }
   ],
   "source": [
    "#第7回 Pythonでファイルを読み書きしよう(その2) 英和辞書データを扱おう\n",
    "#英語辞書から「q」から始まる4文字の英単語だけを「q-list.txt」という別のファイルに保存する\n",
    "\n",
    "import re #正規表現を使用\n",
    "\n",
    "fr = open(\"ejdic-hand-txt/ejdic-hand-utf8.txt\",\"r\",encoding = \"utf-8\")\n",
    "fw = open (\"q-lost.txt\",\"wt\")\n",
    "\n",
    "for line in fr:\n",
    "    if re.match(r\"q[a-z]{3}\\s\",line):\n",
    "        print(line)\n",
    "        fw.write(line)\n",
    "    \n",
    "fw.close()\n",
    "fr.close()"
   ]
  },
  {
   "cell_type": "code",
   "execution_count": null,
   "metadata": {},
   "outputs": [],
   "source": []
  }
 ],
 "metadata": {
  "kernelspec": {
   "display_name": "Python 3",
   "language": "python",
   "name": "python3"
  },
  "language_info": {
   "codemirror_mode": {
    "name": "ipython",
    "version": 3
   },
   "file_extension": ".py",
   "mimetype": "text/x-python",
   "name": "python",
   "nbconvert_exporter": "python",
   "pygments_lexer": "ipython3",
   "version": "3.6.4"
  }
 },
 "nbformat": 4,
 "nbformat_minor": 2
}
