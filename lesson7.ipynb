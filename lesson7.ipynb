{
 "cells": [
  {
   "cell_type": "code",
   "execution_count": 6,
   "metadata": {},
   "outputs": [
    {
     "name": "stdout",
     "output_type": "stream",
     "text": [
      "@\t単価…で/…につき\n",
      "104\t 通信で用いられる『了解』の意を表す語 \n",
      "A\t answer / ampere\n",
      "a.\t about / acre[s] / adjective \n",
      "A,a\t 〈C〉英語ア\n"
     ]
    }
   ],
   "source": [
    "#第7回 Pythonでファイルを読み書きしよう(その2) 英和辞書データを扱おう\n",
    "\n",
    "fr = open(\"ejdic-hand-txt/ejdic-hand-utf8.txt\",\"rt\",encoding = \"utf-8\")\n",
    "content = fr.read()\n",
    "print(content[0:100])\n",
    "fr.close()"
   ]
  },
  {
   "cell_type": "code",
   "execution_count": null,
   "metadata": {},
   "outputs": [],
   "source": []
  }
 ],
 "metadata": {
  "kernelspec": {
   "display_name": "Python 3",
   "language": "python",
   "name": "python3"
  },
  "language_info": {
   "codemirror_mode": {
    "name": "ipython",
    "version": 3
   },
   "file_extension": ".py",
   "mimetype": "text/x-python",
   "name": "python",
   "nbconvert_exporter": "python",
   "pygments_lexer": "ipython3",
   "version": "3.6.4"
  }
 },
 "nbformat": 4,
 "nbformat_minor": 2
}
