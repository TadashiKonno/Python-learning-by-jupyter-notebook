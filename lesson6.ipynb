{
 "cells": [
  {
   "cell_type": "code",
   "execution_count": 7,
   "metadata": {},
   "outputs": [
    {
     "name": "stdout",
     "output_type": "stream",
     "text": [
      "光陰矢の如し 格言\n"
     ]
    }
   ],
   "source": [
    "#第6回 Pythonでファイルを読み書きしよう(その1) ファイル操作基本編\n",
    "fw = open('kakugen.txt','wt',encoding = 'shift_jis')  # ファイルに格言を書き込む\n",
    "fw.write('光陰矢の如し 格言')\n",
    "fw.close()\n",
    "\n",
    "fr = open('kakugen.txt','rt',encoding = 'shift_jis') # ファイルから格言を読み込む\n",
    "text = fr.read()\n",
    "fr.close()\n",
    "print(text)\n"
   ]
  },
  {
   "cell_type": "code",
   "execution_count": null,
   "metadata": {},
   "outputs": [],
   "source": []
  }
 ],
 "metadata": {
  "kernelspec": {
   "display_name": "Python 3",
   "language": "python",
   "name": "python3"
  },
  "language_info": {
   "codemirror_mode": {
    "name": "ipython",
    "version": 3
   },
   "file_extension": ".py",
   "mimetype": "text/x-python",
   "name": "python",
   "nbconvert_exporter": "python",
   "pygments_lexer": "ipython3",
   "version": "3.6.4"
  }
 },
 "nbformat": 4,
 "nbformat_minor": 2
}
