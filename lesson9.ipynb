{
 "cells": [
  {
   "cell_type": "code",
   "execution_count": 8,
   "metadata": {},
   "outputs": [],
   "source": [
    "#第9回 生物集団の栄枯盛衰\"ライフゲーム\"を作ってみよう"
   ]
  },
  {
   "cell_type": "code",
   "execution_count": 15,
   "metadata": {},
   "outputs": [
    {
     "name": "stdout",
     "output_type": "stream",
     "text": [
      "-1 -1\n",
      "0 -1\n",
      "1 -1\n",
      "1 0\n",
      "1 1\n",
      "0 1\n",
      "-1 1\n",
      "-1 0\n"
     ]
    }
   ],
   "source": [
    "from random import randint \n",
    "from tkinter import *\n",
    "\n",
    "COLS, ROWS = [30, 20]#ステージのサイズの定義\n",
    "CW = 20#セルの描画サイズ\n",
    "data = [] #ステージのデータ\n",
    "for y in range(0,ROWS):\n",
    "    data.append([(randint(0, 9) == 0) for x in range(0, COLS)])\n",
    "\n",
    "#ライフゲームのルールを実装\n",
    "'''\n",
    "- 生物の誕生 --- 死んでいるセルの周囲に、生きているセルが3つあれば、次の世代に生物が誕生する\n",
    "- 生物が継続して生存 --- 生きているセルの周囲に、生きているセルが2つ以上3つ以下あれば、次の世代に生物は継続して生存する\n",
    "- 過疎状態 --- 周囲に生きているセルが1つ以下しかなければ、次の世代には死滅する\n",
    "- 過密状態 --- 生きているセルの周囲に、生きているセルが4つ以上あれば、過密により死滅する\n",
    "'''\n",
    "def check(x,y):\n",
    "    #周囲の生存セルを数える\n",
    "    cnt = 0\n",
    "    tbl = [(-1, -1), (0, -1), (1, -1), (1, 0), (1, 1), (0, 1), (-1, 1), (-1, 0)]\n",
    "    for t in tbl:\n",
    "        xx,yy = [x + t[0],y+t[1]]\n",
    "        \n",
    "\n"
   ]
  },
  {
   "cell_type": "code",
   "execution_count": null,
   "metadata": {},
   "outputs": [],
   "source": []
  }
 ],
 "metadata": {
  "kernelspec": {
   "display_name": "Python 3",
   "language": "python",
   "name": "python3"
  },
  "language_info": {
   "codemirror_mode": {
    "name": "ipython",
    "version": 3
   },
   "file_extension": ".py",
   "mimetype": "text/x-python",
   "name": "python",
   "nbconvert_exporter": "python",
   "pygments_lexer": "ipython3",
   "version": "3.6.4"
  }
 },
 "nbformat": 4,
 "nbformat_minor": 2
}
