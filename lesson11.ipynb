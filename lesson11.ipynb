{
 "cells": [
  {
   "cell_type": "code",
   "execution_count": 2,
   "metadata": {},
   "outputs": [],
   "source": [
    "#第11回 最も身近なオープンデータ「郵便番号データベース」を活用しよう"
   ]
  },
  {
   "cell_type": "code",
   "execution_count": 20,
   "metadata": {},
   "outputs": [],
   "source": [
    "#コマンドラインの引数を取得\n",
    "import sys\n",
    "\n",
    "#argvには0番目の要素にプログラムファイル名が、以降の要素にコマンドライン引数の値が設定されています\n",
    "if len(sys.argv) <= 1 :\n",
    "    print(\"以下のように入力してください\")\n",
    "    print(\"python findzip.py (住所)\")\n",
    "    exit()\n",
    "    \n",
    "#空白文字と改行除去\n",
    "add = sys.argv[1].strip()\n",
    "\n",
    "fp = open('KEN_ALL.CSV', 'rt', encoding = 'shift_jis')\n",
    "\n",
    "    \n",
    "fp.close()"
   ]
  },
  {
   "cell_type": "code",
   "execution_count": null,
   "metadata": {},
   "outputs": [],
   "source": []
  }
 ],
 "metadata": {
  "kernelspec": {
   "display_name": "Python 3",
   "language": "python",
   "name": "python3"
  },
  "language_info": {
   "codemirror_mode": {
    "name": "ipython",
    "version": 3
   },
   "file_extension": ".py",
   "mimetype": "text/x-python",
   "name": "python",
   "nbconvert_exporter": "python",
   "pygments_lexer": "ipython3",
   "version": "3.7.2"
  }
 },
 "nbformat": 4,
 "nbformat_minor": 2
}
